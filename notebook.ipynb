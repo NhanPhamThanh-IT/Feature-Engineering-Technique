{
 "cells": [
  {
   "cell_type": "markdown",
   "id": "76a91c7d",
   "metadata": {},
   "source": [
    "### __What's Feature Engineering? (Feature Engineering là gì?)__"
   ]
  },
  {
   "cell_type": "markdown",
   "id": "56a20f4c",
   "metadata": {},
   "source": [
    "<div align=\"justify\">\n",
    "\n",
    "__Feature engineering__ is the process of turning raw data into useful features that help improve the performance of machine learning models. It includes choosing, creating and adjusting data attributes to make the model’s predictions more accurate. The goal is to make the model better by providing relevant and easy-to-understand information.\n",
    "\n",
    "A feature or attribute is a measurable property of data that is used as input for machine learning algorithms. Features can be _numerical_, _categorical_ or _text-based representing essential_ data aspects which are relevant to the problem.\n",
    "\n",
    "__Example:__ In housing price prediction, features might include the number of bedrooms, location and property age.\n",
    "\n",
    "</div>"
   ]
  },
  {
   "cell_type": "markdown",
   "id": "1f1fe7df",
   "metadata": {},
   "source": [
    "<div align=\"justify\">\n",
    "\n",
    "__Feature engineering__ là quá trình chuyển đổi dữ liệu thô thành các đặc trưng hữu ích giúp cải thiện hiệu suất của các mô hình học máy. Quá trình này bao gồm việc lựa chọn, tạo và điều chỉnh các thuộc tính dữ liệu để giúp dự đoán của mô hình chính xác hơn. Mục tiêu là cải thiện mô hình bằng cách cung cấp thông tin phù hợp và dễ hiểu.\n",
    "\n",
    "Một đặc trưng hoặc thuộc tính là một thuộc tính có thể đo lường của dữ liệu, được sử dụng làm đầu vào cho các thuật toán học máy. Các đặc trưng có thể ở dạng _số_, _danh mục_ hoặc _văn bản_, đại diện cho các khía cạnh dữ liệu thiết yếu liên quan đến bài toán.\n",
    "\n",
    "__Ví dụ__: Trong dự đoán giá nhà, các đặc trưng có thể bao gồm số phòng ngủ, vị trí và tuổi của bất động sản.\n",
    "\n",
    "</div>"
   ]
  },
  {
   "cell_type": "markdown",
   "id": "34e1b901",
   "metadata": {},
   "source": [
    "![](./images/architecture.png)"
   ]
  },
  {
   "cell_type": "markdown",
   "id": "1625eb0e",
   "metadata": {},
   "source": [
    "### __Importance of Feature Engineering (Tầm quan trọng của Feature Engineering)__"
   ]
  },
  {
   "cell_type": "markdown",
   "id": "3b9f6181",
   "metadata": {},
   "source": [
    "<div align=\"justify\">\n",
    "\n",
    "Feature engineering can significantly influence model performance. By refining features, we can:\n",
    "\n",
    "- __Improve accuracy__: Choosing the right features helps the model learn better, leading to more accurate predictions.\n",
    "\n",
    "- __Reduce overfitting__: Using fewer, more important features helps the model avoid memorizing the data and perform better on new data.\n",
    "\n",
    "- __Boost interpretability__: Well-chosen features make it easier to understand how the model makes its predictions.\n",
    "\n",
    "- __Enhance efficiency__: Focusing on key features speeds up the model’s training and prediction process, saving time and resources.\n",
    "\n",
    "</div>"
   ]
  },
  {
   "cell_type": "markdown",
   "id": "739d6ec7",
   "metadata": {},
   "source": [
    "<div align=\"justify\">\n",
    "\n",
    "Kỹ thuật thiết kế đặc trưng có thể ảnh hưởng đáng kể đến hiệu suất của mô hình. Bằng cách tinh chỉnh các đặc trưng, chúng ta có thể:\n",
    "\n",
    "- __Cải thiện độ chính xác__: Việc chọn đúng các đặc trưng giúp mô hình học tốt hơn, dẫn đến dự đoán chính xác hơn.\n",
    "\n",
    "- __Giảm hiện tượng quá khớp__: Việc sử dụng ít đặc trưng không quan trọng, nhiều đặc trưng quan trọng hơn giúp mô hình tránh việc ghi nhớ dữ liệu và hoạt động tốt hơn trên dữ liệu mới.\n",
    "\n",
    "- __Tăng khả năng diễn giải__: Các đặc trưng được lựa chọn kỹ lưỡng giúp dễ dàng hiểu cách mô hình đưa ra dự đoán.\n",
    "\n",
    "- __Nâng cao hiệu quả__: Việc tập trung vào các đặc trưng chính giúp tăng tốc quá trình huấn luyện và dự đoán của mô hình, tiết kiệm thời gian và tài nguyên.\n",
    "\n",
    "</div>"
   ]
  },
  {
   "cell_type": "markdown",
   "id": "21fdcd55",
   "metadata": {},
   "source": [
    "### __Processes Involved in Feature Engineering (Các quy trình liên quan đến Feature Engineering)__"
   ]
  },
  {
   "cell_type": "markdown",
   "id": "d6544384",
   "metadata": {},
   "source": [
    "![](./images/involed_processes.png)"
   ]
  },
  {
   "cell_type": "markdown",
   "id": "e5ee995e",
   "metadata": {},
   "source": [
    "<div align=\"justify\">\n",
    "\n",
    "1. __Feature Creation:__ Feature creation involves generating new features from domain knowledge or by observing patterns in the data. It can be:\n",
    "    - __Domain-specific:__ Created based on industry knowledge likr business rules.\n",
    "    - __Data-driven:__ Derived by recognizing patterns in data.\n",
    "    - __Synthetic:__ Formed by combining existing features.\n",
    "\n",
    "2. __Feature Transformation:__ Transformation adjusts features to improve model learning:\n",
    "    - __Normalization & Scaling:__ Adjust the range of features for consistency.\n",
    "    - __Encoding:__ Converts categorical data to numerical form i.e one-hot encoding.\n",
    "    - __Mathematical transformations:__ Like logarithmic transformations for skewed data.\n",
    "\n",
    "3. __Feature Extraction:__ Extracting meaningful features can reduce dimensionality and improve model accuracy:\n",
    "    - __Dimensionality reduction:__ Techniques like PCA reduce features while preserving important information.\n",
    "    - __Aggregation & Combination:__ Summing or averaging features to simplify the model.\n",
    "\n",
    "4. __Feature Selection:__ Feature selection involves choosing a subset of relevant features to use:\n",
    "    - __Filter methods:__ Based on statistical measures like correlation.\n",
    "    - __Wrapper methods:__ Select based on model performance.\n",
    "    - __Embedded methods:__ Feature selection integrated within model training.\n",
    "\n",
    "5. __Feature Scaling:__ Scaling ensures that all features contribute equally to the model:\n",
    "    - __Min-Max scaling:__ Rescales values to a fixed range like 0 to 1.\n",
    "    - __Standard scaling:__ Normalizes to have a mean of 0 and variance of 1.\n",
    "\n",
    "</div>"
   ]
  },
  {
   "cell_type": "markdown",
   "id": "a5144ef0",
   "metadata": {},
   "source": [
    "<div align=\"justify\">\n",
    "\n",
    "1. __Tạo tính năng:__ Việc tạo tính năng bao gồm việc tạo ra các tính năng mới từ kiến thức chuyên ngành hoặc bằng cách quan sát các mẫu trong dữ liệu. Nó có thể là:\n",
    "    - __Cụ thể theo chuyên ngành:__ Được tạo dựa trên kiến thức ngành như các quy tắc kinh doanh.\n",
    "    - __Dựa trên dữ liệu:__ Được suy ra bằng cách nhận dạng các mẫu trong dữ liệu.\n",
    "    - __Tổng hợp:__ Được hình thành bằng cách kết hợp các tính năng hiện có.\n",
    "\n",
    "2. __Chuyển đổi tính năng:__ Chuyển đổi điều chỉnh các tính năng để cải thiện khả năng học mô hình:\n",
    "    - __Chuẩn hóa & Định cỡ:__ Điều chỉnh phạm vi các tính năng để đảm bảo tính nhất quán.\n",
    "    - __Mã hóa:__ Chuyển đổi dữ liệu phân loại sang dạng số, tức là mã hóa one-hot.\n",
    "    - __Biến đổi toán học:__ Giống như biến đổi logarit cho dữ liệu bị lệch.\n",
    "\n",
    "3. __Trích xuất Đặc điểm:__ Trích xuất các đặc điểm có ý nghĩa có thể giảm chiều và cải thiện độ chính xác của mô hình:\n",
    "    - __Giảm chiều:__ Các kỹ thuật như PCA giảm chiều các đặc điểm trong khi vẫn giữ nguyên thông tin quan trọng.\n",
    "    - __Tổng hợp & Kết hợp:__ Tính tổng hoặc tính trung bình các đặc điểm để đơn giản hóa mô hình.\n",
    "\n",
    "4. __Lựa chọn Đặc điểm:__ Lựa chọn đặc điểm bao gồm việc chọn một tập hợp con các đặc điểm có liên quan để sử dụng:\n",
    "    - __Phương pháp lọc:__ Dựa trên các phép đo thống kê như tương quan.\n",
    "    - __Phương pháp bao bọc:__ Lựa chọn dựa trên hiệu suất mô hình.\n",
    "    - __Phương pháp nhúng:__ Lựa chọn đặc điểm được tích hợp trong quá trình huấn luyện mô hình.\n",
    "\n",
    "5. __Điều chỉnh Tỷ lệ Đặc điểm:__ Điều chỉnh tỷ lệ đảm bảo rằng tất cả các đặc điểm đều đóng góp như nhau cho mô hình:\n",
    "    - __Điều chỉnh Tỷ lệ Tối thiểu-Tối đa:__ Điều chỉnh lại tỷ lệ các giá trị về một phạm vi cố định như từ 0 đến 1.\n",
    "    - __Điều chỉnh Tỷ lệ Tiêu chuẩn:__ Chuẩn hóa để có giá trị trung bình bằng 0 và phương sai bằng 1.\n",
    "\n",
    "</div>"
   ]
  }
 ],
 "metadata": {
  "kernelspec": {
   "display_name": "Python (tensorflow_env)",
   "language": "python",
   "name": "tensorflow_env"
  },
  "language_info": {
   "name": "python",
   "version": "3.11.9"
  }
 },
 "nbformat": 4,
 "nbformat_minor": 5
}
