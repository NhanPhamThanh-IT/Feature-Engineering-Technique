{
 "cells": [
  {
   "cell_type": "markdown",
   "id": "76a91c7d",
   "metadata": {},
   "source": [
    "### __What's Feature Engineering?__"
   ]
  },
  {
   "cell_type": "markdown",
   "id": "56a20f4c",
   "metadata": {},
   "source": [
    "<div align=\"justify\">\n",
    "\n",
    "__Feature engineering__ is the process of turning raw data into useful features that help improve the performance of machine learning models. It includes choosing, creating and adjusting data attributes to make the model’s predictions more accurate. The goal is to make the model better by providing relevant and easy-to-understand information.\n",
    "\n",
    "A feature or attribute is a measurable property of data that is used as input for machine learning algorithms. Features can be _numerical_, _categorical_ or _text-based representing essential_ data aspects which are relevant to the problem.\n",
    "\n",
    "__Example:__ In housing price prediction, features might include the number of bedrooms, location and property age.\n",
    "\n",
    "</div>"
   ]
  },
  {
   "cell_type": "markdown",
   "id": "34e1b901",
   "metadata": {},
   "source": [
    "<div align=\"center\">\n",
    "\n",
    "![](./images/architecture.png)\n",
    "\n",
    "</div>"
   ]
  },
  {
   "cell_type": "markdown",
   "id": "1625eb0e",
   "metadata": {},
   "source": [
    "### __Importance of Feature Engineering__"
   ]
  },
  {
   "cell_type": "markdown",
   "id": "3b9f6181",
   "metadata": {},
   "source": [
    "<div align=\"justify\">\n",
    "\n",
    "Feature engineering can significantly influence model performance. By refining features, we can:\n",
    "\n",
    "- __Improve accuracy__: Choosing the right features helps the model learn better, leading to more accurate predictions.\n",
    "\n",
    "- __Reduce overfitting__: Using fewer, more important features helps the model avoid memorizing the data and perform better on new data.\n",
    "\n",
    "- __Boost interpretability__: Well-chosen features make it easier to understand how the model makes its predictions.\n",
    "\n",
    "- __Enhance efficiency__: Focusing on key features speeds up the model’s training and prediction process, saving time and resources.\n",
    "\n",
    "</div>"
   ]
  },
  {
   "cell_type": "markdown",
   "id": "21fdcd55",
   "metadata": {},
   "source": [
    "### __Processes Involved in Feature Engineering__"
   ]
  },
  {
   "cell_type": "markdown",
   "id": "d6544384",
   "metadata": {},
   "source": [
    "<div align=\"center\">\n",
    "\n",
    "![](./images/involed_processes.png)\n",
    "\n",
    "</div>"
   ]
  },
  {
   "cell_type": "markdown",
   "id": "e5ee995e",
   "metadata": {},
   "source": [
    "<div align=\"justify\">\n",
    "\n",
    "1. __Feature Creation:__ Feature creation involves generating new features from domain knowledge or by observing patterns in the data. It can be:\n",
    "    - __Domain-specific:__ Created based on industry knowledge likr business rules.\n",
    "    - __Data-driven:__ Derived by recognizing patterns in data.\n",
    "    - __Synthetic:__ Formed by combining existing features.\n",
    "\n",
    "2. __Feature Transformation:__ Transformation adjusts features to improve model learning:\n",
    "    - __Normalization & Scaling:__ Adjust the range of features for consistency.\n",
    "    - __Encoding:__ Converts categorical data to numerical form i.e one-hot encoding.\n",
    "    - __Mathematical transformations:__ Like logarithmic transformations for skewed data.\n",
    "\n",
    "3. __Feature Extraction:__ Extracting meaningful features can reduce dimensionality and improve model accuracy:\n",
    "    - __Dimensionality reduction:__ Techniques like PCA reduce features while preserving important information.\n",
    "    - __Aggregation & Combination:__ Summing or averaging features to simplify the model.\n",
    "\n",
    "4. __Feature Selection:__ Feature selection involves choosing a subset of relevant features to use:\n",
    "    - __Filter methods:__ Based on statistical measures like correlation.\n",
    "    - __Wrapper methods:__ Select based on model performance.\n",
    "    - __Embedded methods:__ Feature selection integrated within model training.\n",
    "\n",
    "5. __Feature Scaling:__ Scaling ensures that all features contribute equally to the model:\n",
    "    - __Min-Max scaling:__ Rescales values to a fixed range like 0 to 1.\n",
    "    - __Standard scaling:__ Normalizes to have a mean of 0 and variance of 1.\n",
    "\n",
    "</div>"
   ]
  },
  {
   "cell_type": "markdown",
   "id": "9469639d",
   "metadata": {},
   "source": [
    "### __Steps in Feature Engineering__"
   ]
  },
  {
   "cell_type": "markdown",
   "id": "9a3867b8",
   "metadata": {},
   "source": [
    "<div align=\"justify\">\n",
    "\n",
    "Feature engineering can vary depending on the specific problem but the general steps are:\n",
    "\n",
    "1. __Data Cleansing:__ Identify and correct errors or inconsistencies in the dataset to ensure data quality and reliability.\n",
    "2. __Data Transformation:__ Transform raw data into a format suitable for modeling including scaling, normalization and encoding.\n",
    "3. __Feature Extraction:__ Create new features by combining or deriving information from existing ones to provide more meaningful input to the model.\n",
    "4. __Feature Selection:__ Choose the most relevant features for the model using techniques like correlation analysis, mutual information and stepwise regression.\n",
    "5. __Feature Iteration:__ Continuously refine features based on model performance by adding, removing or modifying features for improvement.\n",
    "\n",
    "</div>"
   ]
  }
 ],
 "metadata": {
  "kernelspec": {
   "display_name": "Python (tensorflow_env)",
   "language": "python",
   "name": "tensorflow_env"
  },
  "language_info": {
   "name": "python",
   "version": "3.11.9"
  }
 },
 "nbformat": 4,
 "nbformat_minor": 5
}
