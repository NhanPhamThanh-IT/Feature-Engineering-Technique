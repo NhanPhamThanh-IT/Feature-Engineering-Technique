{
 "cells": [
  {
   "cell_type": "markdown",
   "id": "76a91c7d",
   "metadata": {},
   "source": [
    "### __What's Feature Engineering? (Feature Engineering là gì?)__"
   ]
  },
  {
   "cell_type": "markdown",
   "id": "56a20f4c",
   "metadata": {},
   "source": [
    "<div align=\"justify\">\n",
    "\n",
    "__Feature engineering__ is the process of turning raw data into useful features that help improve the performance of machine learning models. It includes choosing, creating and adjusting data attributes to make the model’s predictions more accurate. The goal is to make the model better by providing relevant and easy-to-understand information.\n",
    "\n",
    "A feature or attribute is a measurable property of data that is used as input for machine learning algorithms. Features can be _numerical_, _categorical_ or _text-based representing essential_ data aspects which are relevant to the problem.\n",
    "\n",
    "__Example:__ In housing price prediction, features might include the number of bedrooms, location and property age.\n",
    "\n",
    "</div>"
   ]
  },
  {
   "cell_type": "markdown",
   "id": "1f1fe7df",
   "metadata": {},
   "source": [
    "<div align=\"justify\">\n",
    "\n",
    "__Feature engineering__ là quá trình chuyển đổi dữ liệu thô thành các đặc trưng hữu ích giúp cải thiện hiệu suất của các mô hình học máy. Quá trình này bao gồm việc lựa chọn, tạo và điều chỉnh các thuộc tính dữ liệu để giúp dự đoán của mô hình chính xác hơn. Mục tiêu là cải thiện mô hình bằng cách cung cấp thông tin phù hợp và dễ hiểu.\n",
    "\n",
    "Một đặc trưng hoặc thuộc tính là một thuộc tính có thể đo lường của dữ liệu, được sử dụng làm đầu vào cho các thuật toán học máy. Các đặc trưng có thể ở dạng _số_, _danh mục_ hoặc _văn bản_, đại diện cho các khía cạnh dữ liệu thiết yếu liên quan đến bài toán.\n",
    "\n",
    "__Ví dụ__: Trong dự đoán giá nhà, các đặc trưng có thể bao gồm số phòng ngủ, vị trí và tuổi của bất động sản.\n",
    "\n",
    "</div>"
   ]
  },
  {
   "cell_type": "markdown",
   "id": "34e1b901",
   "metadata": {},
   "source": [
    "![](./images/architecture.png)"
   ]
  }
 ],
 "metadata": {
  "kernelspec": {
   "display_name": "Python (tensorflow_env)",
   "language": "python",
   "name": "tensorflow_env"
  },
  "language_info": {
   "name": "python",
   "version": "3.11.9"
  }
 },
 "nbformat": 4,
 "nbformat_minor": 5
}
