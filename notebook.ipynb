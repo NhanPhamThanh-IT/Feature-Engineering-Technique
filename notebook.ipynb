{
 "cells": [
  {
   "cell_type": "markdown",
   "id": "76a91c7d",
   "metadata": {},
   "source": [
    "### __What's Feature Engineering? (Feature Engineering là gì?)__"
   ]
  },
  {
   "cell_type": "markdown",
   "id": "56a20f4c",
   "metadata": {},
   "source": [
    "<div align=\"justify\">\n",
    "\n",
    "__Feature engineering__ is the process of turning raw data into useful features that help improve the performance of machine learning models. It includes choosing, creating and adjusting data attributes to make the model’s predictions more accurate. The goal is to make the model better by providing relevant and easy-to-understand information.\n",
    "\n",
    "A feature or attribute is a measurable property of data that is used as input for machine learning algorithms. Features can be _numerical_, _categorical_ or _text-based representing essential_ data aspects which are relevant to the problem.\n",
    "\n",
    "__Example:__ In housing price prediction, features might include the number of bedrooms, location and property age.\n",
    "\n",
    "</div>"
   ]
  },
  {
   "cell_type": "markdown",
   "id": "1f1fe7df",
   "metadata": {},
   "source": [
    "<div align=\"justify\">\n",
    "\n",
    "__Feature engineering__ là quá trình chuyển đổi dữ liệu thô thành các đặc trưng hữu ích giúp cải thiện hiệu suất của các mô hình học máy. Quá trình này bao gồm việc lựa chọn, tạo và điều chỉnh các thuộc tính dữ liệu để giúp dự đoán của mô hình chính xác hơn. Mục tiêu là cải thiện mô hình bằng cách cung cấp thông tin phù hợp và dễ hiểu.\n",
    "\n",
    "Một đặc trưng hoặc thuộc tính là một thuộc tính có thể đo lường của dữ liệu, được sử dụng làm đầu vào cho các thuật toán học máy. Các đặc trưng có thể ở dạng _số_, _danh mục_ hoặc _văn bản_, đại diện cho các khía cạnh dữ liệu thiết yếu liên quan đến bài toán.\n",
    "\n",
    "__Ví dụ__: Trong dự đoán giá nhà, các đặc trưng có thể bao gồm số phòng ngủ, vị trí và tuổi của bất động sản.\n",
    "\n",
    "</div>"
   ]
  },
  {
   "cell_type": "markdown",
   "id": "34e1b901",
   "metadata": {},
   "source": [
    "![](./images/architecture.png)"
   ]
  },
  {
   "cell_type": "markdown",
   "id": "1625eb0e",
   "metadata": {},
   "source": [
    "### __Importance of Feature Engineering (Tầm quan trọng của Feature Engineering)__"
   ]
  },
  {
   "cell_type": "markdown",
   "id": "3b9f6181",
   "metadata": {},
   "source": [
    "<div align=\"justify\">\n",
    "\n",
    "Feature engineering can significantly influence model performance. By refining features, we can:\n",
    "\n",
    "- __Improve accuracy__: Choosing the right features helps the model learn better, leading to more accurate predictions.\n",
    "\n",
    "- __Reduce overfitting__: Using fewer, more important features helps the model avoid memorizing the data and perform better on new data.\n",
    "\n",
    "- __Boost interpretability__: Well-chosen features make it easier to understand how the model makes its predictions.\n",
    "\n",
    "- __Enhance efficiency__: Focusing on key features speeds up the model’s training and prediction process, saving time and resources.\n",
    "\n",
    "</div>"
   ]
  },
  {
   "cell_type": "markdown",
   "id": "739d6ec7",
   "metadata": {},
   "source": [
    "<div align=\"justify\">\n",
    "\n",
    "Kỹ thuật thiết kế đặc trưng có thể ảnh hưởng đáng kể đến hiệu suất của mô hình. Bằng cách tinh chỉnh các đặc trưng, chúng ta có thể:\n",
    "\n",
    "- __Cải thiện độ chính xác__: Việc chọn đúng các đặc trưng giúp mô hình học tốt hơn, dẫn đến dự đoán chính xác hơn.\n",
    "\n",
    "- __Giảm hiện tượng quá khớp__: Việc sử dụng ít đặc trưng không quan trọng, nhiều đặc trưng quan trọng hơn giúp mô hình tránh việc ghi nhớ dữ liệu và hoạt động tốt hơn trên dữ liệu mới.\n",
    "\n",
    "- __Tăng khả năng diễn giải__: Các đặc trưng được lựa chọn kỹ lưỡng giúp dễ dàng hiểu cách mô hình đưa ra dự đoán.\n",
    "\n",
    "- __Nâng cao hiệu quả__: Việc tập trung vào các đặc trưng chính giúp tăng tốc quá trình huấn luyện và dự đoán của mô hình, tiết kiệm thời gian và tài nguyên.\n",
    "\n",
    "</div>"
   ]
  }
 ],
 "metadata": {
  "kernelspec": {
   "display_name": "Python (tensorflow_env)",
   "language": "python",
   "name": "tensorflow_env"
  },
  "language_info": {
   "name": "python",
   "version": "3.11.9"
  }
 },
 "nbformat": 4,
 "nbformat_minor": 5
}
