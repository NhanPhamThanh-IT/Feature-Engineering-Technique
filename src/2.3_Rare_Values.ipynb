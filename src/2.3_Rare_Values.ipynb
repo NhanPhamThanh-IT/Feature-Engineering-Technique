{
 "cells": [
  {
   "cell_type": "markdown",
   "id": "87fb71b5",
   "metadata": {},
   "source": [
    "### __Importing the Dependencies__"
   ]
  },
  {
   "cell_type": "code",
   "execution_count": null,
   "id": "0e94a6cc",
   "metadata": {},
   "outputs": [],
   "source": [
    "import pandas as pd\n",
    "from utils import rare_values as ra"
   ]
  },
  {
   "cell_type": "markdown",
   "id": "495e04db",
   "metadata": {},
   "source": [
    "### __Loading the dataset__"
   ]
  },
  {
   "cell_type": "code",
   "execution_count": 2,
   "id": "783c565e",
   "metadata": {},
   "outputs": [
    {
     "name": "stdout",
     "output_type": "stream",
     "text": [
      "Variable Pclass label proportion:\n",
      "Pclass\n",
      "3    0.551066\n",
      "1    0.242424\n",
      "2    0.206510\n",
      "Name: count, dtype: float64\n",
      "Variable SibSp label proportion:\n",
      "SibSp\n",
      "0    0.682379\n",
      "1    0.234568\n",
      "2    0.031425\n",
      "4    0.020202\n",
      "3    0.017957\n",
      "8    0.007856\n",
      "5    0.005612\n",
      "Name: count, dtype: float64\n"
     ]
    }
   ],
   "source": [
    "use_cols = [\n",
    "    'Pclass', 'Sex', 'Age', 'Fare', 'SibSp',\n",
    "    'Survived'\n",
    "]\n",
    "\n",
    "# Seeing column Pclass & SibSp's distributions\n",
    "# SibSp has values 3/8/5 that occur rarely, under 2%\n",
    "# Pclass has 3 values, but no one is under 20%\n",
    "data = pd.read_csv('../datasets/titanic.csv', usecols=use_cols)\n",
    "for i in ['Pclass','SibSp']:\n",
    "    print('Variable',i,'label proportion:')\n",
    "    print(data[i].value_counts()/len(data))"
   ]
  },
  {
   "cell_type": "markdown",
   "id": "10e95af5",
   "metadata": {},
   "source": [
    "### __Grouping into one new category__"
   ]
  },
  {
   "cell_type": "code",
   "execution_count": 3,
   "id": "fc4fe064",
   "metadata": {},
   "outputs": [],
   "source": [
    "# Grouping the observations that show rare labels into a unique category ('rare')\n",
    "# Creating the encoder and fit with our data\n",
    "enc = ra.GroupingRareValues(cols=['Pclass','SibSp'],threshold=0.01).fit(data)"
   ]
  },
  {
   "cell_type": "code",
   "execution_count": 4,
   "id": "abc58869",
   "metadata": {},
   "outputs": [
    {
     "name": "stdout",
     "output_type": "stream",
     "text": [
      "[{'col': 'Pclass', 'mapping': 3    3\n",
      "1    1\n",
      "2    2\n",
      "dtype: int64, 'data_type': dtype('int64')}, {'col': 'SibSp', 'mapping': 0       0\n",
      "1       1\n",
      "2       2\n",
      "4       4\n",
      "3       3\n",
      "8    rare\n",
      "5    rare\n",
      "dtype: object, 'data_type': dtype('int64')}]\n"
     ]
    }
   ],
   "source": [
    "# Let's see the mapping for SibSp, values 5 & 8 are encoded as 'rare' as they appear less than 10% for Pclass, nothing changed\n",
    "print(enc.mapping)"
   ]
  },
  {
   "cell_type": "code",
   "execution_count": 5,
   "id": "fd6e423f",
   "metadata": {},
   "outputs": [],
   "source": [
    "# Performing transformation\n",
    "data2 = enc.transform(data)"
   ]
  },
  {
   "cell_type": "code",
   "execution_count": 6,
   "id": "01fb990b",
   "metadata": {},
   "outputs": [
    {
     "name": "stdout",
     "output_type": "stream",
     "text": [
      "SibSp\n",
      "0       608\n",
      "1       209\n",
      "2        28\n",
      "4        18\n",
      "3        16\n",
      "rare     12\n",
      "Name: count, dtype: int64\n"
     ]
    }
   ],
   "source": [
    "# Checking the result\n",
    "print(data2.SibSp.value_counts())"
   ]
  },
  {
   "cell_type": "markdown",
   "id": "dbba3504",
   "metadata": {},
   "source": [
    "### __Mode Imputation__"
   ]
  },
  {
   "cell_type": "code",
   "execution_count": 7,
   "id": "ee27031e",
   "metadata": {},
   "outputs": [],
   "source": [
    "# Replacing the rare label by most frequent label\n",
    "# Creating the encoder and fit with our data\n",
    "enc = ra.ModeImputation(cols=['Pclass','SibSp'],threshold=0.01).fit(data)"
   ]
  },
  {
   "cell_type": "code",
   "execution_count": 8,
   "id": "00e31f29",
   "metadata": {},
   "outputs": [
    {
     "name": "stdout",
     "output_type": "stream",
     "text": [
      "[{'col': 'Pclass', 'mapping': 3    3\n",
      "1    1\n",
      "2    2\n",
      "dtype: int64, 'data_type': dtype('int64')}, {'col': 'SibSp', 'mapping': 0    0\n",
      "1    1\n",
      "2    2\n",
      "4    4\n",
      "3    3\n",
      "8    0\n",
      "5    0\n",
      "dtype: int64, 'data_type': dtype('int64')}]\n"
     ]
    }
   ],
   "source": [
    "# Let's see the mapping for SibSp, values 5 & 8 are encoded as 0, as label 0 is the most frequent label for Pclass, nothing changed\n",
    "print(enc.mapping)"
   ]
  },
  {
   "cell_type": "code",
   "execution_count": 9,
   "id": "4816b24c",
   "metadata": {},
   "outputs": [],
   "source": [
    "# Performing transformation\n",
    "data3 = enc.transform(data)"
   ]
  },
  {
   "cell_type": "code",
   "execution_count": 10,
   "id": "6e9cc5f3",
   "metadata": {},
   "outputs": [
    {
     "name": "stdout",
     "output_type": "stream",
     "text": [
      "SibSp\n",
      "0    620\n",
      "1    209\n",
      "2     28\n",
      "4     18\n",
      "3     16\n",
      "Name: count, dtype: int64\n"
     ]
    }
   ],
   "source": [
    "# Checking the result\n",
    "print(data3.SibSp.value_counts())"
   ]
  }
 ],
 "metadata": {
  "kernelspec": {
   "display_name": "Python (tensorflow_env)",
   "language": "python",
   "name": "tensorflow_env"
  },
  "language_info": {
   "codemirror_mode": {
    "name": "ipython",
    "version": 3
   },
   "file_extension": ".py",
   "mimetype": "text/x-python",
   "name": "python",
   "nbconvert_exporter": "python",
   "pygments_lexer": "ipython3",
   "version": "3.11.9"
  }
 },
 "nbformat": 4,
 "nbformat_minor": 5
}
