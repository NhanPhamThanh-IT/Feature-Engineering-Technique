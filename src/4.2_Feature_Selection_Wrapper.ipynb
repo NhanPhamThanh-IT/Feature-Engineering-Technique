{
 "cells": [
  {
   "cell_type": "markdown",
   "id": "31703e96",
   "metadata": {},
   "source": [
    "### __Install the dependencies__"
   ]
  },
  {
   "cell_type": "code",
   "execution_count": null,
   "id": "a5567bd3",
   "metadata": {},
   "outputs": [],
   "source": [
    "!pip install pandas numpy scikit-learn mlxtend"
   ]
  },
  {
   "cell_type": "markdown",
   "id": "19139c65",
   "metadata": {},
   "source": [
    "### __Importing the dependencies__"
   ]
  },
  {
   "cell_type": "code",
   "execution_count": 3,
   "id": "17c0a05f",
   "metadata": {},
   "outputs": [],
   "source": [
    "import pandas as pd\n",
    "import numpy as np\n",
    "import os\n",
    "from sklearn.model_selection import train_test_split\n",
    "from mlxtend.feature_selection import SequentialFeatureSelector as SFS\n",
    "from mlxtend.feature_selection import ExhaustiveFeatureSelector as EFS\n",
    "from sklearn.ensemble import RandomForestRegressor, RandomForestClassifier"
   ]
  }
 ],
 "metadata": {
  "kernelspec": {
   "display_name": "Python (tensorflow_env)",
   "language": "python",
   "name": "tensorflow_env"
  },
  "language_info": {
   "codemirror_mode": {
    "name": "ipython",
    "version": 3
   },
   "file_extension": ".py",
   "mimetype": "text/x-python",
   "name": "python",
   "nbconvert_exporter": "python",
   "pygments_lexer": "ipython3",
   "version": "3.11.9"
  }
 },
 "nbformat": 4,
 "nbformat_minor": 5
}
