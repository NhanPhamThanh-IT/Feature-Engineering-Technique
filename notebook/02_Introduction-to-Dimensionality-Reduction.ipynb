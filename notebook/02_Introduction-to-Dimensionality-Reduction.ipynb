{
 "cells": [
  {
   "cell_type": "markdown",
   "id": "7418ce63",
   "metadata": {},
   "source": [
    "<div align=\"justify\">\n",
    "\n",
    "When working with machine learning models, datasets with too many features can cause issues like slow computation and overfitting. Dimensionality reduction helps to reduce the number of features while retaining key information. Techniques like __principal component analysis (PCA)__, __singular value decomposition (SVD)__ and __linear discriminant analysis (LDA)__ convert data into a lower-dimensional space while preserving important details.\n",
    "\n",
    "__Example:__ when you are building a model to predict house prices with features like bedrooms, square footage and location. If you add too many features such as room condition or flooring type, the dataset becomes large and complex.\n",
    "\n",
    "</div>"
   ]
  },
  {
   "cell_type": "markdown",
   "id": "5bea1c27",
   "metadata": {},
   "source": [
    "<div align=\"center\">\n",
    "\n",
    "![](../images/image1.png)\n",
    "\n",
    "![](../images/image2.png)\n",
    "\n",
    "![](../images/image3.png)\n",
    "\n",
    "</div>"
   ]
  }
 ],
 "metadata": {
  "language_info": {
   "name": "python"
  }
 },
 "nbformat": 4,
 "nbformat_minor": 5
}
