{
 "cells": [
  {
   "cell_type": "markdown",
   "id": "7418ce63",
   "metadata": {},
   "source": [
    "<div align=\"justify\">\n",
    "\n",
    "When working with machine learning models, datasets with too many features can cause issues like slow computation and overfitting. Dimensionality reduction helps to reduce the number of features while retaining key information. Techniques like __principal component analysis (PCA)__, __singular value decomposition (SVD)__ and __linear discriminant analysis (LDA)__ convert data into a lower-dimensional space while preserving important details.\n",
    "\n",
    "__Example:__ when you are building a model to predict house prices with features like bedrooms, square footage and location. If you add too many features such as room condition or flooring type, the dataset becomes large and complex.\n",
    "\n",
    "</div>"
   ]
  },
  {
   "cell_type": "markdown",
   "id": "5bea1c27",
   "metadata": {},
   "source": [
    "<div align=\"center\">\n",
    "\n",
    "![](../images/image1.png)\n",
    "\n",
    "![](../images/image2.png)\n",
    "\n",
    "![](../images/image3.png)\n",
    "\n",
    "</div>"
   ]
  },
  {
   "cell_type": "markdown",
   "id": "7d21f00f",
   "metadata": {},
   "source": [
    "### __How Dimensionality Reduction Works?__"
   ]
  },
  {
   "cell_type": "markdown",
   "id": "8a4e751d",
   "metadata": {},
   "source": [
    "<div align=\"justify\">\n",
    "\n",
    "Lets understand how dimensionality Reduction is used with the help of example. Imagine a dataset where each data point exists in a 3D space defined by axes X, Y and Z. If most of the data variance occurs along X and Y then the Z-dimension may contribute very little to understanding the structure of the data.\n",
    "\n",
    "</div>"
   ]
  },
  {
   "cell_type": "markdown",
   "id": "e84204c2",
   "metadata": {},
   "source": [
    "<div align=\"center\">\n",
    "\n",
    "![](../images/how-dimensionality-reduction-works.jpg)\n",
    "\n",
    "</div>"
   ]
  },
  {
   "cell_type": "markdown",
   "id": "f3ff2482",
   "metadata": {},
   "source": [
    "<div align=\"justify\">\n",
    "\n",
    "- Before Reduction You can see that Data exist in 3D (X,Y,Z). It has high redundancy and Z contributes little meaningful information\n",
    "- On the right after reducing the dimensionality the data is represented in __lower-dimensional spaces__. The top plot (X-Y) maintains the meaningful structure while the bottom plot (Z-Y) shows that the Z-dimension contributed little useful information.\n",
    "\n",
    "This process makes data analysis more efficient, improving computation speed and visualization while minimizing redundancy\n",
    "\n",
    "</div>"
   ]
  }
 ],
 "metadata": {
  "language_info": {
   "name": "python"
  }
 },
 "nbformat": 4,
 "nbformat_minor": 5
}
