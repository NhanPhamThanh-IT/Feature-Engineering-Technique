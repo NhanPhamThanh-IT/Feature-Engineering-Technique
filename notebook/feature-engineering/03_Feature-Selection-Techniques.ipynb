{
  "cells": [
    {
      "cell_type": "markdown",
      "id": "fde2ca05",
      "metadata": {},
      "source": [
        "<div align=\"justify\">\n",
        "\n",
        "In data science many times we encounter vast of features present in a dataset. But it is not necessary all features contribute equally in prediction that's where feature selection comes. It involves selecting a subset of relevant features from the original feature set to reduce the feature space while improving the model’s performance by reducing computational power. When a dataset has too many features, some may be irrelevant or add noise which can slow down training process and reduce accuracy but it helps in building simpler, faster and more accurate models and also helps in reducing overfitting.\n",
        "\n",
        "</div>"
      ]
    },
    {
      "cell_type": "markdown",
      "id": "cdd4d61c",
      "metadata": {},
      "source": [
        "<div align=\"center\">\n",
        "\n",
        "\n",
        "![](../../images/image4.png)\n",
        "\n",
        "![](../../images/image5.png)\n",
        "\n",
        "![](../../images/image6.png)\n",
        "\n",
        "![](../../images/image7.png)\n",
        "\n",
        "</div>"
      ]
    },
    {
      "cell_type": "markdown",
      "id": "d55f9cc1",
      "metadata": {},
      "source": [
        "<div align=\"justify\">\n",
        "\n",
        "There are various algorithms used for feature selection and are grouped into three main categories and each one has its own strengths and trade-offs depending on the use case.\n",
        "\n",
        "</div>"
      ]
    },
    {
      "cell_type": "markdown",
      "id": "82e2cbbc",
      "metadata": {},
      "source": [
        "### __1. Filter Methods__"
      ]
    },
    {
      "cell_type": "markdown",
      "id": "b9d79f8e",
      "metadata": {},
      "source": [
        "<div align=\"justify\">\n",
        "\n",
        "Filter methods evaluate each feature independently with target variable. Feature with high correlation with target variable are selected as it means this feature has some relation and can help us in making predictions. These methods are used in the preprocessing phase to remove irrelevant or redundant features based on statistical tests (correlation) or other criteria.\n",
        "\n",
        "<div align=\"center\">\n",
        "\n",
        "![](../../images/filter-methods-implementation.png)\n",
        "\n",
        "_Filter Methods Implementation_\n",
        "\n",
        "</div>\n",
        "\n",
        "<strong>Advantages</strong>\n",
        "\n",
        "- Quickly evaluate features without training the model.\n",
        "- Good for removing redundant or correlated features.\n",
        "\n",
        "<strong>Limitations:</strong> These methods don't consider feature interactions so they may miss feature combinations that improve model performance.\n",
        "\n",
        "Some techniques used are:  \n",
        "\n",
        "- __Information Gain:__ It is defined as the amount of information provided by the feature for identifying the target value and measures reduction in the entropy values. Information gain of each attribute is calculated considering the target values for feature selection.\n",
        "- __Chi-square test:__ It is generally used to test the relationship between categorical variables. It compares the observed values from different attributes of the dataset to its expected value.\n",
        "- __Fisher’s Score:__ It selects each feature independently according to their scores under Fisher criterion leading to a suboptimal set of features. The larger the Fisher’s score is, the better is the selected feature.\n",
        "- __Pearson’s Correlation Coefficient:__ It is a measure of quantifying the association between the two continuous variables and the direction of the relationship with its values ranging from -1 to 1.\n",
        "- __Variance Threshold:__ It is an approach where all features are removed whose variance doesn’t meet the specific threshold. By default this method removes features having zero variance. The assumption made using this method is higher variance features are likely to contain more information.\n",
        "- __Mean Absolute Difference:__ It is a method is similar to variance threshold method but the difference is there is no square in this method. This method calculates the mean absolute difference from the mean value.\n",
        "- __Dispersion ratio:__ It is defined as the ratio of the Arithmetic mean (AM) to that of Geometric mean (GM) for a given feature. Its value ranges from +1 to infinity as AM ≥ GM for a given feature. Higher dispersion ratio implies a more relevant feature.\n",
        "\n",
        "</div>"
      ]
    },
    {
      "cell_type": "markdown",
      "id": "83ca2ad2",
      "metadata": {},
      "source": [
        "### __2. Wrapper Methods__"
      ]
    },
    {
      "cell_type": "markdown",
      "id": "472fe321",
      "metadata": {},
      "source": [
        "<div align=\"justify\">\n",
        "\n",
        "Wrapper methods are also referred as greedy algorithms that train algorithm. They use different combination of features and compute relation between these subset features and target variable and based on conclusion addition and removal of features are done. Stopping criteria for selecting the best subset are usually pre-defined by the person training the model such as when the performance of the model decreases or a specific number of features are achieved.\n",
        "\n",
        "<div align=\"center\">\n",
        "\n",
        "![](../../images/wrapper-methods-implementation.png)\n",
        "\n",
        "_Wrapper Methods Implementation_\n",
        "\n",
        "</div>\n",
        "\n",
        "<strong>Advantages</strong>\n",
        "\n",
        "- Can lead to better model performance since they evaluate feature subsets in the context of the model.\n",
        "- They can capture feature dependencies and interactions.\n",
        "\n",
        "<strong>Limitations:</strong> They are computationally more expensive than filter methods especially for large datasets.\n",
        "\n",
        "Some techniques used are:\n",
        "\n",
        "- __Forward selection:__ This method is an iterative approach where we initially start with an empty set of features and keep adding a feature which best improves our model after each iteration. The stopping criterion is till the addition of a new variable does not improve the performance of the model.\n",
        "- __Backward elimination:__ This method is also an iterative approach where we initially start with all features and after each iteration, we remove the least significant feature. The stopping criterion is till no improvement in the performance of the model is observed after the feature is removed.\n",
        "- __Recursive elimination:__ Recursive elimination is a greedy method that selects features by recursively removing the least important ones. It trains a model, ranks features based on importance and eliminates them one by one until the desired number of features is reached.\n",
        "\n",
        "</div>"
      ]
    },
    {
      "cell_type": "markdown",
      "id": "7216489d",
      "metadata": {},
      "source": [
        "### __3. Embedded Methods__"
      ]
    },
    {
      "cell_type": "markdown",
      "id": "1ca72d18",
      "metadata": {},
      "source": [
        "<div align=\"justify\">\n",
        "\n",
        "Embedded methods perform feature selection during the model training process. They combine the benefits of both filter and wrapper methods. Feature selection is integrated into the model training allowing the model to select the most relevant features based on the training process dynamically.\n",
        "\n",
        "<div align=\"center\">\n",
        "\n",
        "![](../../images/embedded-methods-implementation.png)\n",
        "\n",
        "_Embedded Methods Implementation_\n",
        "\n",
        "</div>\n",
        "\n",
        "__Advantages__\n",
        "\n",
        "- More efficient than wrapper methods because the feature selection process is embedded within model training.\n",
        "- Often more scalable than wrapper methods.\n",
        "\n",
        "__Limitations:__ Works with a specific learning algorithm so the feature selection might not work well with other models\n",
        "\n",
        "Some techniques used are:\n",
        "\n",
        "- __L1 Regularization (Lasso):__ A regression method that applies L1 regularization to encourage sparsity in the model. Features with non-zero coefficients are considered important.\n",
        "- __Decision Trees and Random Forests:__ These algorithms naturally perform feature selection by selecting the most important features for splitting nodes based on criteria like Gini impurity or information gain.\n",
        "- __Gradient Boosting:__ Like random forests gradient boosting models select important features while building trees by prioritizing features that reduce error the most.\n",
        "\n",
        "</div>"
      ]
    },
    {
      "cell_type": "markdown",
      "id": "a66ddabe",
      "metadata": {},
      "source": [
        "### __Choosing the Right Feature Selection Method__"
      ]
    },
    {
      "cell_type": "markdown",
      "id": "8fd83297",
      "metadata": {},
      "source": [
        "<div align=\"justify\">\n",
        "\n",
        "Choice of feature selection method depends on several factors:\n",
        "\n",
        "- __Dataset Size:__ Filter methods are often preferred for very large datasets due to their speed.\n",
        "- __Feature Interactions:__ Wrapper and embedded methods are better for capturing complex feature interactions.\n",
        "- __Model Type:__ Some methods like Lasso and decision trees are more suitable for certain models like linear models or tree-based models.\n",
        "\n",
        "With these feature selection methods we can easily improve performance of our model and reduce its computational cost.\n",
        "\n",
        "</div>"
      ]
    }
  ],
  "metadata": {
    "language_info": {
      "name": "python"
    }
  },
  "nbformat": 4,
  "nbformat_minor": 5
}
