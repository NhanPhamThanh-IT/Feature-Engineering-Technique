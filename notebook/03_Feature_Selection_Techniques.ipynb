{
 "cells": [
  {
   "cell_type": "markdown",
   "id": "fde2ca05",
   "metadata": {},
   "source": [
    "<div align=\"justify\">\n",
    "\n",
    "In data science many times we encounter vast of features present in a dataset. But it is not necessary all features contribute equally in prediction that's where feature selection comes. It involves selecting a subset of relevant features from the original feature set to reduce the feature space while improving the model’s performance by reducing computational power. When a dataset has too many features, some may be irrelevant or add noise which can slow down training process and reduce accuracy but it helps in building simpler, faster and more accurate models and also helps in reducing overfitting.\n",
    "\n",
    "</div>"
   ]
  },
  {
   "cell_type": "markdown",
   "id": "cdd4d61c",
   "metadata": {},
   "source": [
    "<div align=\"center\">\n",
    "\n",
    "\n",
    "![](../images/image4.png)\n",
    "\n",
    "![](../images/image5.png)\n",
    "\n",
    "![](../images/image6.png)\n",
    "\n",
    "![](../images/image7.png)\n",
    "\n",
    "</div>"
   ]
  },
  {
   "cell_type": "markdown",
   "id": "d55f9cc1",
   "metadata": {},
   "source": [
    "<div align=\"justify\">\n",
    "\n",
    "There are various algorithms used for feature selection and are grouped into three main categories and each one has its own strengths and trade-offs depending on the use case.\n",
    "\n",
    "</div>"
   ]
  }
 ],
 "metadata": {
  "language_info": {
   "name": "python"
  }
 },
 "nbformat": 4,
 "nbformat_minor": 5
}
