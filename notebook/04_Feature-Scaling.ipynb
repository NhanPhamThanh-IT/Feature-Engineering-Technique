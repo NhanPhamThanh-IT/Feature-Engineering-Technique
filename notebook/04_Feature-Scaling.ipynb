{
 "cells": [
  {
   "cell_type": "markdown",
   "id": "dde3268b",
   "metadata": {},
   "source": [
    "<div align=\"justify\">\n",
    "\n",
    "Feature Scaling is a technique to standardize the independent features present in the data. It is performed during the data pre-processing to handle highly varying values. If feature scaling is not done then __machine learning algorithm tends to use greater values as higher and consider smaller values as lower regardless of the unit of the values__. For example it will take 10 m and 10 cm both as same regardless of their unit. In this article we will learn about different techniques which are used to perform feature scaling.\n",
    "\n",
    "</div>"
   ]
  }
 ],
 "metadata": {
  "language_info": {
   "name": "python"
  }
 },
 "nbformat": 4,
 "nbformat_minor": 5
}
