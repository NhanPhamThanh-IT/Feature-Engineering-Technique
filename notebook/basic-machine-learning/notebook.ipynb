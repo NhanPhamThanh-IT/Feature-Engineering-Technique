{
 "cells": [
  {
   "cell_type": "markdown",
   "id": "b9732316",
   "metadata": {},
   "source": [
    "# <div align=\"center\"><strong>Giới thiệu về Feature Engineering</strong></div>"
   ]
  },
  {
   "cell_type": "markdown",
   "id": "efe79025",
   "metadata": {},
   "source": [
    "### __1. Giới thiệu__"
   ]
  },
  {
   "cell_type": "markdown",
   "id": "84353743",
   "metadata": {},
   "source": [
    "<div align=\"justify\">\n",
    "\n",
    "Trong Machine Learning, các điểm dữ liệu được biểu diễn bằng các vector, được gọi là feature vector hay vector đặc trưng, có độ dài bằng nhau, và cùng là vector cột hoặc vector hàng. Tuy nhiên, trong các bài toán thực tế, mọi chuyện không được tốt đẹp như vậy!\n",
    "\n",
    "Với các bài toán về Computer Vision, các bức ảnh là các ma trận có kích thước khác nhau. Thậm chí để nhận dạng vật thể trong ảnh, ta cần thêm một bước nữa là object detection, tức là tìm cái khung chứa vật thể chúng ta cần dự đoán. Ví dụ, trong bài toán nhận dạng khuôn mặt, chúng ta cần tìm được vị trí các khuôn mặt trong ảnh và crop các khuôn mặt đó trước khi làm các bước tiếp theo. Ngay cả khi đã xác định được các khung chứa các khuôn mặt (và có thể resize các khung đó về cùng một kích thước), ta vẫn phải làm rất nhiều việc nữa vì hình ảnh của khuôn mặt còn phụ thưộc vào góc chụp, ánh sáng, … và rất nhiều yếu tố khác nữa.\n",
    "\n",
    "Các bài toán NLP (Natural Language Processing - Xử lý ngôn ngữ tự nhiên) cũng có khó khăn tương tự khi độ dài của các văn bản là khác nhau, thậm chí có những từ rất hiếm gặp hoặc không có trong từ điển. Cũng có khi thêm một vài từ vào văn bản mà nội dung của văn bản không đổi hoặc hoàn toàn mang nghĩa ngược lại. Hoặc cùng là một câu nói nhưng tốc độ, âm giọng của mỗi người là khác nhau, thậm chí của cùng một người nhưng lúc ốm lúc khỏe cũng khác nhau.\n",
    "\n",
    "Khi làm việc với các bài toán Machine Learning thực tế, nhìn chung chúng ta chỉ có được dữ liệu thô (raw) chưa qua chỉnh sửa, chọn lọc. Chúng ta cần phải tìm một phép biến đổi để loại ra những dữ liệu nhiễu (noise), và để đưa dữ liệu thô với số chiều khác nhau về cùng một chuẩn (cùng là các vector hoặc ma trận). Dữ liệu chuẩn mới này phải đảm bảo giữ được những thông tin đặc trưng (features) cho dữ liệu thô ban đầu. Không những thế, tùy vào từng bài toán, ta cần thiết kế những phép biến đổi để có những features phù hợp. Quá trình quan trọng này được gọi là __Feature Extraction__, hoặc __Feature Engineering__, một số tài liệu tiếng Việt gọi nó là trích chọn đặc trưng.\n",
    "\n",
    "Để giúp các bạn có cái nhìn tổng quan hơn, trong phần tiếp theo tôi xin đặt bước Feature Engineering này trong một bức tranh lớn hơn.\n",
    "\n",
    "</div>"
   ]
  },
  {
   "cell_type": "markdown",
   "id": "08203b41",
   "metadata": {},
   "source": [
    "### __2. Mô hình chung cho các bài toán Machine Learning__"
   ]
  },
  {
   "cell_type": "markdown",
   "id": "4b26d953",
   "metadata": {},
   "source": [
    "<div align=\"justify\">\n",
    "\n",
    "Phần lớn các bài toán Machine Learning có thể được thể hiện trong hình vẽ dưới đây:\n",
    "\n",
    "<div align=\"center\">\n",
    "\n",
    "![](../../images/general-workflow-for-machine-learning.png)\n",
    "\n",
    "__Hình 1:__ Mô hình chung cho các bài toán Machine Learning\n",
    "\n",
    "</div>\n",
    "\n",
    "Có hai phases lớn là Training phase và Testing phase. Xin nhắc lại là với các bài toán Supervised learning, ta có các cặp dữ liệu (input, output), với các bài toán Unsupervised learing, ta chỉ có input mà thôi.\n",
    "\n",
    "</div>"
   ]
  }
 ],
 "metadata": {
  "language_info": {
   "name": "python"
  }
 },
 "nbformat": 4,
 "nbformat_minor": 5
}
